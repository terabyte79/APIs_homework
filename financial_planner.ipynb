{
 "cells": [
  {
   "attachments": {},
   "cell_type": "markdown",
   "metadata": {},
   "source": [
    "# Unit 5 - Financial Planning"
   ]
  },
  {
   "cell_type": "code",
   "execution_count": 2,
   "metadata": {},
   "outputs": [],
   "source": [
    "# Initial imports\n",
    "import os\n",
    "import requests\n",
    "import pandas as pd\n",
    "from dotenv import load_dotenv\n",
    "import alpaca_trade_api as tradeapi\n",
    "import json\n",
    "from MCForecastTools1 import MCSimulation\n",
    "\n",
    "%matplotlib inline"
   ]
  },
  {
   "cell_type": "code",
   "execution_count": 3,
   "metadata": {},
   "outputs": [
    {
     "data": {
      "text/plain": [
       "True"
      ]
     },
     "execution_count": 3,
     "metadata": {},
     "output_type": "execute_result"
    }
   ],
   "source": [
    "# Load .env enviroment variables\n",
    "load_dotenv() #true .env file is loaded"
   ]
  },
  {
   "attachments": {},
   "cell_type": "markdown",
   "metadata": {},
   "source": [
    "## Part 1 - Personal Finance Planner"
   ]
  },
  {
   "attachments": {},
   "cell_type": "markdown",
   "metadata": {},
   "source": [
    "### Collect Crypto Prices Using the `requests` Library"
   ]
  },
  {
   "cell_type": "code",
   "execution_count": 4,
   "metadata": {},
   "outputs": [],
   "source": [
    "# Set current amount of crypto assets\n",
    "my_btc = 1.2\n",
    "my_eth = 5.3"
   ]
  },
  {
   "cell_type": "code",
   "execution_count": 5,
   "metadata": {},
   "outputs": [],
   "source": [
    "# Crypto API URLs\n",
    "btc_url = \"https://api.alternative.me/v2/ticker/Bitcoin/?convert=CAD\"\n",
    "eth_url = \"https://api.alternative.me/v2/ticker/Ethereum/?convert=CAD\""
   ]
  },
  {
   "cell_type": "code",
   "execution_count": 6,
   "metadata": {},
   "outputs": [
    {
     "data": {
      "text/plain": [
       "<Response [200]>"
      ]
     },
     "execution_count": 6,
     "metadata": {},
     "output_type": "execute_result"
    }
   ],
   "source": [
    "# api for btc loaded succesfully. Response = 200\n",
    "btc_response = requests.get(btc_url)\n",
    "btc_response\n"
   ]
  },
  {
   "cell_type": "code",
   "execution_count": 7,
   "metadata": {},
   "outputs": [
    {
     "data": {
      "text/plain": [
       "<Response [200]>"
      ]
     },
     "execution_count": 7,
     "metadata": {},
     "output_type": "execute_result"
    }
   ],
   "source": [
    "# api for eth loaded succesfully. Response = 200\n",
    "eth_response = requests.get(eth_url)\n",
    "eth_response"
   ]
  },
  {
   "cell_type": "code",
   "execution_count": 8,
   "metadata": {},
   "outputs": [
    {
     "name": "stdout",
     "output_type": "stream",
     "text": [
      "{\n",
      "    \"data\": {\n",
      "        \"1\": {\n",
      "            \"id\": 1,\n",
      "            \"name\": \"Bitcoin\",\n",
      "            \"symbol\": \"BTC\",\n",
      "            \"website_slug\": \"bitcoin\",\n",
      "            \"rank\": 1,\n",
      "            \"circulating_supply\": 19405231,\n",
      "            \"total_supply\": 19405231,\n",
      "            \"max_supply\": 21000000,\n",
      "            \"quotes\": {\n",
      "                \"USD\": {\n",
      "                    \"price\": 26482.0,\n",
      "                    \"volume_24h\": 9415437954,\n",
      "                    \"market_cap\": 513719409509,\n",
      "                    \"percentage_change_1h\": -0.037989907359619,\n",
      "                    \"percentage_change_24h\": 0.855352630888941,\n",
      "                    \"percentage_change_7d\": 2.6552368593844,\n",
      "                    \"percent_change_1h\": -0.037989907359619,\n",
      "                    \"percent_change_24h\": 0.855352630888941,\n",
      "                    \"percent_change_7d\": 2.6552368593844\n",
      "                },\n",
      "                \"CAD\": {\n",
      "                    \"price\": 35975.797,\n",
      "                    \"volume_24h\": 12790872460.509,\n",
      "                    \"market_cap\": 697887817817.977,\n",
      "                    \"percent_change_1h\": -0.037989907359619,\n",
      "                    \"percent_change_24h\": 0.855352630888941,\n",
      "                    \"percent_change_7d\": 2.6552368593844\n",
      "                }\n",
      "            },\n",
      "            \"last_updated\": 1687058102\n",
      "        }\n",
      "    },\n",
      "    \"metadata\": {\n",
      "        \"timestamp\": 1687058102,\n",
      "        \"num_cryptocurrencies\": 3119,\n",
      "        \"error\": null\n",
      "    }\n",
      "}\n"
     ]
    }
   ],
   "source": [
    "# Loaded btc_data in json and formattted it using indent = 4\n",
    "\n",
    "btc_data = btc_response.json()\n",
    "print(json.dumps( btc_data, indent=4))"
   ]
  },
  {
   "cell_type": "code",
   "execution_count": 9,
   "metadata": {},
   "outputs": [
    {
     "data": {
      "text/plain": [
       "35975.797"
      ]
     },
     "execution_count": 9,
     "metadata": {},
     "output_type": "execute_result"
    }
   ],
   "source": [
    "# Fetch current BTC price\n",
    "btc_price = btc_data[\"data\"][\"1\"][\"quotes\"][\"CAD\"][\"price\"] # retrieved BTC CAD price from the nested dictionary \n",
    "btc_price"
   ]
  },
  {
   "cell_type": "code",
   "execution_count": 10,
   "metadata": {},
   "outputs": [
    {
     "name": "stdout",
     "output_type": "stream",
     "text": [
      "{\n",
      "    \"data\": {\n",
      "        \"1027\": {\n",
      "            \"id\": 1027,\n",
      "            \"name\": \"Ethereum\",\n",
      "            \"symbol\": \"ETH\",\n",
      "            \"website_slug\": \"ethereum\",\n",
      "            \"rank\": 2,\n",
      "            \"circulating_supply\": 120212803,\n",
      "            \"total_supply\": 120212803,\n",
      "            \"max_supply\": 120212803,\n",
      "            \"quotes\": {\n",
      "                \"USD\": {\n",
      "                    \"price\": 1725.69,\n",
      "                    \"volume_24h\": 5380210021,\n",
      "                    \"market_cap\": 207375873577,\n",
      "                    \"percentage_change_1h\": -0.0912076061969642,\n",
      "                    \"percentage_change_24h\": 0.333408633011886,\n",
      "                    \"percentage_change_7d\": -1.32278216550822,\n",
      "                    \"percent_change_1h\": -0.0912076061969642,\n",
      "                    \"percent_change_24h\": 0.333408633011886,\n",
      "                    \"percent_change_7d\": -1.32278216550822\n",
      "                },\n",
      "                \"CAD\": {\n",
      "                    \"price\": 2344.349865,\n",
      "                    \"volume_24h\": 7309015313.5285,\n",
      "                    \"market_cap\": 281720124254.354,\n",
      "                    \"percent_change_1h\": -0.0912076061969642,\n",
      "                    \"percent_change_24h\": 0.333408633011886,\n",
      "                    \"percent_change_7d\": -1.32278216550822\n",
      "                }\n",
      "            },\n",
      "            \"last_updated\": 1687058094\n",
      "        }\n",
      "    },\n",
      "    \"metadata\": {\n",
      "        \"timestamp\": 1687058094,\n",
      "        \"num_cryptocurrencies\": 3119,\n",
      "        \"error\": null\n",
      "    }\n",
      "}\n"
     ]
    }
   ],
   "source": [
    "# Loaded eth_data in json and formattted it using indent = 4\n",
    "eth_data = eth_response.json()\n",
    "print(json.dumps( eth_data, indent=4))"
   ]
  },
  {
   "cell_type": "code",
   "execution_count": 11,
   "metadata": {},
   "outputs": [
    {
     "data": {
      "text/plain": [
       "2344.349865"
      ]
     },
     "execution_count": 11,
     "metadata": {},
     "output_type": "execute_result"
    }
   ],
   "source": [
    "# Fetch current ETH price\n",
    "eth_price = eth_data[\"data\"][\"1027\"][\"quotes\"][\"CAD\"][\"price\"] # retrieved ETH CAD price from the nested dictionary \n",
    "eth_price\n"
   ]
  },
  {
   "cell_type": "code",
   "execution_count": 12,
   "metadata": {},
   "outputs": [
    {
     "name": "stdout",
     "output_type": "stream",
     "text": [
      "The current value of your 1.2 BTC is $43170.96\n",
      "The current value of your 5.3 ETH is $12425.05\n"
     ]
    }
   ],
   "source": [
    "# Compute current value of my crpto\n",
    "my_btc_value = my_btc * btc_price\n",
    "my_eth_value = my_eth * eth_price\n",
    "# Print current crypto wallet balance\n",
    "print(f\"The current value of your {my_btc} BTC is ${my_btc_value:0.2f}\")\n",
    "print(f\"The current value of your {my_eth} ETH is ${my_eth_value:0.2f}\")"
   ]
  },
  {
   "attachments": {},
   "cell_type": "markdown",
   "metadata": {},
   "source": [
    "### Collect Investments Data Using Alpaca: `SPY` (stocks) and `AGG` (bonds)"
   ]
  },
  {
   "cell_type": "code",
   "execution_count": 13,
   "metadata": {},
   "outputs": [],
   "source": [
    "# Set current amount of shares\n",
    "my_agg = 200\n",
    "my_spy = 50"
   ]
  },
  {
   "cell_type": "code",
   "execution_count": 14,
   "metadata": {},
   "outputs": [
    {
     "name": "stdout",
     "output_type": "stream",
     "text": [
      "Alpaca Key type: <class 'str'>\n",
      "Alpaca Secret Key type: <class 'str'>\n"
     ]
    }
   ],
   "source": [
    "# Set Alpaca API key and secret\n",
    "alpaca_api_key = os.getenv(\"alpaca_api_key\")\n",
    "alpaca_secret_key = os.getenv(\"alpaca_secret_key\")\n",
    "\n",
    " # Verifying that Alpaca key and secret were correctly loaded\n",
    "print(f\"Alpaca Key type: {type(alpaca_api_key)}\")\n",
    "print(f\"Alpaca Secret Key type: {type(alpaca_secret_key)}\")\n"
   ]
  },
  {
   "cell_type": "code",
   "execution_count": 15,
   "metadata": {},
   "outputs": [],
   "source": [
    "# Create the Alpaca API object\n",
    "alpaca = tradeapi.REST(\n",
    "    alpaca_api_key,\n",
    "    alpaca_secret_key,\n",
    "    api_version=\"v2\")"
   ]
  },
  {
   "cell_type": "code",
   "execution_count": 16,
   "metadata": {},
   "outputs": [],
   "source": [
    "# Format current date as ISO format\n",
    "current_date = pd.Timestamp(\"2023-06-13\", tz=\"America/New_York\").isoformat()\n",
    "\n",
    "# Set the tickers\n",
    "tickers = [\"AGG\", \"SPY\"]\n",
    "\n",
    "# Set timeframe to \"1Day\" for Alpaca API\n",
    "timeframe = \"1Day\"\n",
    "\n"
   ]
  },
  {
   "cell_type": "code",
   "execution_count": 17,
   "metadata": {},
   "outputs": [
    {
     "data": {
      "text/html": [
       "<div>\n",
       "<style scoped>\n",
       "    .dataframe tbody tr th:only-of-type {\n",
       "        vertical-align: middle;\n",
       "    }\n",
       "\n",
       "    .dataframe tbody tr th {\n",
       "        vertical-align: top;\n",
       "    }\n",
       "\n",
       "    .dataframe thead th {\n",
       "        text-align: right;\n",
       "    }\n",
       "</style>\n",
       "<table border=\"1\" class=\"dataframe\">\n",
       "  <thead>\n",
       "    <tr style=\"text-align: right;\">\n",
       "      <th></th>\n",
       "      <th>open</th>\n",
       "      <th>high</th>\n",
       "      <th>low</th>\n",
       "      <th>close</th>\n",
       "      <th>volume</th>\n",
       "      <th>trade_count</th>\n",
       "      <th>vwap</th>\n",
       "      <th>symbol</th>\n",
       "    </tr>\n",
       "    <tr>\n",
       "      <th>timestamp</th>\n",
       "      <th></th>\n",
       "      <th></th>\n",
       "      <th></th>\n",
       "      <th></th>\n",
       "      <th></th>\n",
       "      <th></th>\n",
       "      <th></th>\n",
       "      <th></th>\n",
       "    </tr>\n",
       "  </thead>\n",
       "  <tbody>\n",
       "    <tr>\n",
       "      <th>2023-06-13 04:00:00+00:00</th>\n",
       "      <td>98.48</td>\n",
       "      <td>98.48</td>\n",
       "      <td>97.6001</td>\n",
       "      <td>97.68</td>\n",
       "      <td>9568596</td>\n",
       "      <td>27973</td>\n",
       "      <td>97.819261</td>\n",
       "      <td>AGG</td>\n",
       "    </tr>\n",
       "    <tr>\n",
       "      <th>2023-06-13 04:00:00+00:00</th>\n",
       "      <td>435.32</td>\n",
       "      <td>437.33</td>\n",
       "      <td>434.6300</td>\n",
       "      <td>436.66</td>\n",
       "      <td>95912772</td>\n",
       "      <td>673273</td>\n",
       "      <td>436.003879</td>\n",
       "      <td>SPY</td>\n",
       "    </tr>\n",
       "  </tbody>\n",
       "</table>\n",
       "</div>"
      ],
      "text/plain": [
       "                             open    high       low   close    volume  \\\n",
       "timestamp                                                               \n",
       "2023-06-13 04:00:00+00:00   98.48   98.48   97.6001   97.68   9568596   \n",
       "2023-06-13 04:00:00+00:00  435.32  437.33  434.6300  436.66  95912772   \n",
       "\n",
       "                           trade_count        vwap symbol  \n",
       "timestamp                                                  \n",
       "2023-06-13 04:00:00+00:00        27973   97.819261    AGG  \n",
       "2023-06-13 04:00:00+00:00       673273  436.003879    SPY  "
      ]
     },
     "execution_count": 17,
     "metadata": {},
     "output_type": "execute_result"
    }
   ],
   "source": [
    "# Get current closing prices for SPY and AGG\n",
    "portfolio = alpaca.get_bars(\n",
    "    tickers,\n",
    "    timeframe,\n",
    "    start = current_date,\n",
    "    end = current_date\n",
    ").df\n",
    "\n",
    "portfolio\n",
    "\n"
   ]
  },
  {
   "cell_type": "code",
   "execution_count": 18,
   "metadata": {},
   "outputs": [
    {
     "data": {
      "text/html": [
       "<div>\n",
       "<style scoped>\n",
       "    .dataframe tbody tr th:only-of-type {\n",
       "        vertical-align: middle;\n",
       "    }\n",
       "\n",
       "    .dataframe tbody tr th {\n",
       "        vertical-align: top;\n",
       "    }\n",
       "\n",
       "    .dataframe thead tr th {\n",
       "        text-align: left;\n",
       "    }\n",
       "\n",
       "    .dataframe thead tr:last-of-type th {\n",
       "        text-align: right;\n",
       "    }\n",
       "</style>\n",
       "<table border=\"1\" class=\"dataframe\">\n",
       "  <thead>\n",
       "    <tr>\n",
       "      <th></th>\n",
       "      <th colspan=\"7\" halign=\"left\">AGG</th>\n",
       "      <th colspan=\"7\" halign=\"left\">SPY</th>\n",
       "    </tr>\n",
       "    <tr>\n",
       "      <th></th>\n",
       "      <th>open</th>\n",
       "      <th>high</th>\n",
       "      <th>low</th>\n",
       "      <th>close</th>\n",
       "      <th>volume</th>\n",
       "      <th>trade_count</th>\n",
       "      <th>vwap</th>\n",
       "      <th>open</th>\n",
       "      <th>high</th>\n",
       "      <th>low</th>\n",
       "      <th>close</th>\n",
       "      <th>volume</th>\n",
       "      <th>trade_count</th>\n",
       "      <th>vwap</th>\n",
       "    </tr>\n",
       "    <tr>\n",
       "      <th>timestamp</th>\n",
       "      <th></th>\n",
       "      <th></th>\n",
       "      <th></th>\n",
       "      <th></th>\n",
       "      <th></th>\n",
       "      <th></th>\n",
       "      <th></th>\n",
       "      <th></th>\n",
       "      <th></th>\n",
       "      <th></th>\n",
       "      <th></th>\n",
       "      <th></th>\n",
       "      <th></th>\n",
       "      <th></th>\n",
       "    </tr>\n",
       "  </thead>\n",
       "  <tbody>\n",
       "    <tr>\n",
       "      <th>2023-06-13 04:00:00+00:00</th>\n",
       "      <td>98.48</td>\n",
       "      <td>98.48</td>\n",
       "      <td>97.6001</td>\n",
       "      <td>97.68</td>\n",
       "      <td>9568596</td>\n",
       "      <td>27973</td>\n",
       "      <td>97.819261</td>\n",
       "      <td>435.32</td>\n",
       "      <td>437.33</td>\n",
       "      <td>434.63</td>\n",
       "      <td>436.66</td>\n",
       "      <td>95912772</td>\n",
       "      <td>673273</td>\n",
       "      <td>436.003879</td>\n",
       "    </tr>\n",
       "  </tbody>\n",
       "</table>\n",
       "</div>"
      ],
      "text/plain": [
       "                             AGG                                              \\\n",
       "                            open   high      low  close   volume trade_count   \n",
       "timestamp                                                                      \n",
       "2023-06-13 04:00:00+00:00  98.48  98.48  97.6001  97.68  9568596       27973   \n",
       "\n",
       "                                         SPY                          \\\n",
       "                                vwap    open    high     low   close   \n",
       "timestamp                                                              \n",
       "2023-06-13 04:00:00+00:00  97.819261  435.32  437.33  434.63  436.66   \n",
       "\n",
       "                                                             \n",
       "                             volume trade_count        vwap  \n",
       "timestamp                                                    \n",
       "2023-06-13 04:00:00+00:00  95912772      673273  436.003879  "
      ]
     },
     "execution_count": 18,
     "metadata": {},
     "output_type": "execute_result"
    }
   ],
   "source": [
    "# Reorganize the DataFrame\n",
    "\n",
    "# Separate ticker data\n",
    "agg = portfolio[portfolio['symbol']=='AGG'].drop('symbol', axis=1)\n",
    "spy = portfolio[portfolio['symbol']=='SPY'].drop('symbol', axis=1)\n",
    "\n",
    "\n",
    "# Concatenate the ticker DataFrames\n",
    "multi_index_portfolio = pd.concat([agg,spy],axis=1, keys=[\"AGG\",\"SPY\"])\n",
    "\n",
    "# Preview DataFrame\n",
    "multi_index_portfolio.head()\n"
   ]
  },
  {
   "cell_type": "code",
   "execution_count": 19,
   "metadata": {},
   "outputs": [
    {
     "name": "stdout",
     "output_type": "stream",
     "text": [
      "Current AGG closing price: $97.68\n",
      "Current SPY closing price: $436.66\n"
     ]
    }
   ],
   "source": [
    "# Pick AGG and SPY close prices\n",
    "agg_close_price = float(multi_index_portfolio[\"AGG\"][\"close\"])\n",
    "spy_close_price = float(multi_index_portfolio[\"SPY\"][\"close\"])\n",
    "\n",
    "\n",
    "# Print AGG and SPY close prices\n",
    "print(f\"Current AGG closing price: ${agg_close_price}\")\n",
    "print(f\"Current SPY closing price: ${spy_close_price}\")\n",
    "\n",
    "\n"
   ]
  },
  {
   "cell_type": "code",
   "execution_count": 20,
   "metadata": {},
   "outputs": [
    {
     "name": "stdout",
     "output_type": "stream",
     "text": [
      "The current value of your 50 SPY shares is $21833.00\n",
      "The current value of your 200 AGG shares is $19536.00\n"
     ]
    }
   ],
   "source": [
    "# Compute the current value of shares\n",
    "my_agg_value = my_agg * agg_close_price\n",
    "my_spy_value = my_spy * spy_close_price\n",
    "\n",
    "# Print current value of shares\n",
    "print(f\"The current value of your {my_spy} SPY shares is ${my_spy_value:0.2f}\")\n",
    "print(f\"The current value of your {my_agg} AGG shares is ${my_agg_value:0.2f}\")"
   ]
  },
  {
   "attachments": {},
   "cell_type": "markdown",
   "metadata": {},
   "source": [
    "### Savings Health Analysis"
   ]
  },
  {
   "cell_type": "code",
   "execution_count": 21,
   "metadata": {},
   "outputs": [
    {
     "data": {
      "text/html": [
       "<div>\n",
       "<style scoped>\n",
       "    .dataframe tbody tr th:only-of-type {\n",
       "        vertical-align: middle;\n",
       "    }\n",
       "\n",
       "    .dataframe tbody tr th {\n",
       "        vertical-align: top;\n",
       "    }\n",
       "\n",
       "    .dataframe thead th {\n",
       "        text-align: right;\n",
       "    }\n",
       "</style>\n",
       "<table border=\"1\" class=\"dataframe\">\n",
       "  <thead>\n",
       "    <tr style=\"text-align: right;\">\n",
       "      <th></th>\n",
       "      <th>amount</th>\n",
       "    </tr>\n",
       "  </thead>\n",
       "  <tbody>\n",
       "    <tr>\n",
       "      <th>crypto</th>\n",
       "      <td>55596.010684</td>\n",
       "    </tr>\n",
       "    <tr>\n",
       "      <th>shares</th>\n",
       "      <td>41369.000000</td>\n",
       "    </tr>\n",
       "  </tbody>\n",
       "</table>\n",
       "</div>"
      ],
      "text/plain": [
       "              amount\n",
       "crypto  55596.010684\n",
       "shares  41369.000000"
      ]
     },
     "metadata": {},
     "output_type": "display_data"
    }
   ],
   "source": [
    "# Set monthly household income\n",
    "monthly_income = 12000\n",
    "\n",
    "# Consolidate financial assets data\n",
    "crypto_value = my_btc_value + my_eth_value\n",
    "shares_value = my_agg_value + my_spy_value\n",
    "\n",
    "# Create savings DataFrame\n",
    "df_savings =  pd.DataFrame({\"amount\": [crypto_value, shares_value]},\n",
    "                          index=[\"crypto\", \"shares\"])\n",
    "\n",
    "# Display savings DataFrame\n",
    "display(df_savings)"
   ]
  },
  {
   "cell_type": "code",
   "execution_count": 22,
   "metadata": {},
   "outputs": [
    {
     "data": {
      "text/plain": [
       "<Axes: title={'center': 'Composition of Personal Savings'}, ylabel='amount'>"
      ]
     },
     "execution_count": 22,
     "metadata": {},
     "output_type": "execute_result"
    },
    {
     "data": {
      "image/png": "[encoded data removed]",
      "text/plain": [
       "<Figure size 640x480 with 1 Axes>"
      ]
     },
     "metadata": {},
     "output_type": "display_data"
    }
   ],
   "source": [
    "# Plot savings pie chart\n",
    "df_savings.plot(kind=\"pie\", y=\"amount\",title=\"Composition of Personal Savings\")"
   ]
  },
  {
   "cell_type": "code",
   "execution_count": 23,
   "metadata": {},
   "outputs": [
    {
     "data": {
      "text/plain": [
       "96965.01"
      ]
     },
     "execution_count": 23,
     "metadata": {},
     "output_type": "execute_result"
    }
   ],
   "source": [
    "# Set ideal emergency fund\n",
    "emergency_fund = monthly_income * 3\n",
    "\n",
    "# Calculate total amount of savings\n",
    "total_savings = crypto_value + shares_value\n",
    "total_savings = round(total_savings,2)\n",
    "total_savings"
   ]
  },
  {
   "cell_type": "code",
   "execution_count": 24,
   "metadata": {},
   "outputs": [
    {
     "name": "stdout",
     "output_type": "stream",
     "text": [
      "Congratulations! You have more than sufficient amount of money as savings in case of an emergency.\n"
     ]
    }
   ],
   "source": [
    "# Validate saving health\n",
    "if total_savings > emergency_fund:\n",
    "    print(\"Congratulations! You have more than sufficient amount of money as savings in case of an emergency.\")\n",
    "elif total_savings == emergency_fund:\n",
    "    print(\"Congratulations! You have exactly the amount required for emergencies in your savings.\")\n",
    "else:\n",
    "    difference = emergency_fund - total_savings\n",
    "    difference = round(difference,2)\n",
    "    print(f\"You are ${difference} away from attaining financial security.\")\n",
    "\n"
   ]
  },
  {
   "attachments": {},
   "cell_type": "markdown",
   "metadata": {},
   "source": [
    "## Part 2 - Retirement Planning\n",
    "\n",
    "### Monte Carlo Simulation"
   ]
  },
  {
   "cell_type": "code",
   "execution_count": 25,
   "metadata": {},
   "outputs": [],
   "source": [
    "# Set start and end dates of five years back from today.\n",
    "# Sample results may vary from the solution based on the time frame chosen\n",
    "start_date = pd.Timestamp('2018-06-17', tz='America/New_York').isoformat()\n",
    "end_date = pd.Timestamp('2023-06-17', tz='America/New_York').isoformat()"
   ]
  },
  {
   "cell_type": "code",
   "execution_count": 26,
   "metadata": {},
   "outputs": [
    {
     "data": {
      "text/html": [
       "<div>\n",
       "<style scoped>\n",
       "    .dataframe tbody tr th:only-of-type {\n",
       "        vertical-align: middle;\n",
       "    }\n",
       "\n",
       "    .dataframe tbody tr th {\n",
       "        vertical-align: top;\n",
       "    }\n",
       "\n",
       "    .dataframe thead th {\n",
       "        text-align: right;\n",
       "    }\n",
       "</style>\n",
       "<table border=\"1\" class=\"dataframe\">\n",
       "  <thead>\n",
       "    <tr style=\"text-align: right;\">\n",
       "      <th></th>\n",
       "      <th>open</th>\n",
       "      <th>high</th>\n",
       "      <th>low</th>\n",
       "      <th>close</th>\n",
       "      <th>volume</th>\n",
       "      <th>trade_count</th>\n",
       "      <th>vwap</th>\n",
       "      <th>symbol</th>\n",
       "    </tr>\n",
       "    <tr>\n",
       "      <th>timestamp</th>\n",
       "      <th></th>\n",
       "      <th></th>\n",
       "      <th></th>\n",
       "      <th></th>\n",
       "      <th></th>\n",
       "      <th></th>\n",
       "      <th></th>\n",
       "      <th></th>\n",
       "    </tr>\n",
       "  </thead>\n",
       "  <tbody>\n",
       "    <tr>\n",
       "      <th>2018-06-18 04:00:00+00:00</th>\n",
       "      <td>105.93</td>\n",
       "      <td>105.9300</td>\n",
       "      <td>105.80</td>\n",
       "      <td>105.900</td>\n",
       "      <td>2359452</td>\n",
       "      <td>10590</td>\n",
       "      <td>105.864382</td>\n",
       "      <td>AGG</td>\n",
       "    </tr>\n",
       "    <tr>\n",
       "      <th>2018-06-19 04:00:00+00:00</th>\n",
       "      <td>106.05</td>\n",
       "      <td>106.1100</td>\n",
       "      <td>105.98</td>\n",
       "      <td>106.010</td>\n",
       "      <td>2184239</td>\n",
       "      <td>10342</td>\n",
       "      <td>106.041881</td>\n",
       "      <td>AGG</td>\n",
       "    </tr>\n",
       "    <tr>\n",
       "      <th>2018-06-20 04:00:00+00:00</th>\n",
       "      <td>106.06</td>\n",
       "      <td>106.0600</td>\n",
       "      <td>105.79</td>\n",
       "      <td>105.805</td>\n",
       "      <td>2403650</td>\n",
       "      <td>9220</td>\n",
       "      <td>105.886127</td>\n",
       "      <td>AGG</td>\n",
       "    </tr>\n",
       "    <tr>\n",
       "      <th>2018-06-21 04:00:00+00:00</th>\n",
       "      <td>105.88</td>\n",
       "      <td>105.9599</td>\n",
       "      <td>105.81</td>\n",
       "      <td>105.840</td>\n",
       "      <td>2896731</td>\n",
       "      <td>11286</td>\n",
       "      <td>105.870603</td>\n",
       "      <td>AGG</td>\n",
       "    </tr>\n",
       "    <tr>\n",
       "      <th>2018-06-22 04:00:00+00:00</th>\n",
       "      <td>105.82</td>\n",
       "      <td>105.9400</td>\n",
       "      <td>105.80</td>\n",
       "      <td>105.940</td>\n",
       "      <td>1957177</td>\n",
       "      <td>7830</td>\n",
       "      <td>105.897826</td>\n",
       "      <td>AGG</td>\n",
       "    </tr>\n",
       "  </tbody>\n",
       "</table>\n",
       "</div>"
      ],
      "text/plain": [
       "                             open      high     low    close   volume  \\\n",
       "timestamp                                                               \n",
       "2018-06-18 04:00:00+00:00  105.93  105.9300  105.80  105.900  2359452   \n",
       "2018-06-19 04:00:00+00:00  106.05  106.1100  105.98  106.010  2184239   \n",
       "2018-06-20 04:00:00+00:00  106.06  106.0600  105.79  105.805  2403650   \n",
       "2018-06-21 04:00:00+00:00  105.88  105.9599  105.81  105.840  2896731   \n",
       "2018-06-22 04:00:00+00:00  105.82  105.9400  105.80  105.940  1957177   \n",
       "\n",
       "                           trade_count        vwap symbol  \n",
       "timestamp                                                  \n",
       "2018-06-18 04:00:00+00:00        10590  105.864382    AGG  \n",
       "2018-06-19 04:00:00+00:00        10342  106.041881    AGG  \n",
       "2018-06-20 04:00:00+00:00         9220  105.886127    AGG  \n",
       "2018-06-21 04:00:00+00:00        11286  105.870603    AGG  \n",
       "2018-06-22 04:00:00+00:00         7830  105.897826    AGG  "
      ]
     },
     "execution_count": 26,
     "metadata": {},
     "output_type": "execute_result"
    }
   ],
   "source": [
    "# Get 5 years' worth of historical data for SPY and AGG\n",
    "sim_portfolio = alpaca.get_bars(\n",
    "    tickers,\n",
    "    timeframe,\n",
    "    start = start_date,\n",
    "    end = end_date\n",
    ").df\n",
    "\n",
    "sim_portfolio.head(5)\n",
    "\n"
   ]
  },
  {
   "cell_type": "code",
   "execution_count": 27,
   "metadata": {},
   "outputs": [
    {
     "data": {
      "text/html": [
       "<div>\n",
       "<style scoped>\n",
       "    .dataframe tbody tr th:only-of-type {\n",
       "        vertical-align: middle;\n",
       "    }\n",
       "\n",
       "    .dataframe tbody tr th {\n",
       "        vertical-align: top;\n",
       "    }\n",
       "\n",
       "    .dataframe thead tr th {\n",
       "        text-align: left;\n",
       "    }\n",
       "\n",
       "    .dataframe thead tr:last-of-type th {\n",
       "        text-align: right;\n",
       "    }\n",
       "</style>\n",
       "<table border=\"1\" class=\"dataframe\">\n",
       "  <thead>\n",
       "    <tr>\n",
       "      <th></th>\n",
       "      <th colspan=\"7\" halign=\"left\">AGG</th>\n",
       "      <th colspan=\"7\" halign=\"left\">SPY</th>\n",
       "    </tr>\n",
       "    <tr>\n",
       "      <th></th>\n",
       "      <th>open</th>\n",
       "      <th>high</th>\n",
       "      <th>low</th>\n",
       "      <th>close</th>\n",
       "      <th>volume</th>\n",
       "      <th>trade_count</th>\n",
       "      <th>vwap</th>\n",
       "      <th>open</th>\n",
       "      <th>high</th>\n",
       "      <th>low</th>\n",
       "      <th>close</th>\n",
       "      <th>volume</th>\n",
       "      <th>trade_count</th>\n",
       "      <th>vwap</th>\n",
       "    </tr>\n",
       "    <tr>\n",
       "      <th>timestamp</th>\n",
       "      <th></th>\n",
       "      <th></th>\n",
       "      <th></th>\n",
       "      <th></th>\n",
       "      <th></th>\n",
       "      <th></th>\n",
       "      <th></th>\n",
       "      <th></th>\n",
       "      <th></th>\n",
       "      <th></th>\n",
       "      <th></th>\n",
       "      <th></th>\n",
       "      <th></th>\n",
       "      <th></th>\n",
       "    </tr>\n",
       "  </thead>\n",
       "  <tbody>\n",
       "    <tr>\n",
       "      <th>2018-06-18 04:00:00+00:00</th>\n",
       "      <td>105.93</td>\n",
       "      <td>105.9300</td>\n",
       "      <td>105.80</td>\n",
       "      <td>105.900</td>\n",
       "      <td>2359452</td>\n",
       "      <td>10590</td>\n",
       "      <td>105.864382</td>\n",
       "      <td>275.49</td>\n",
       "      <td>276.700</td>\n",
       "      <td>274.95</td>\n",
       "      <td>276.59</td>\n",
       "      <td>53163695</td>\n",
       "      <td>221103</td>\n",
       "      <td>276.151288</td>\n",
       "    </tr>\n",
       "    <tr>\n",
       "      <th>2018-06-19 04:00:00+00:00</th>\n",
       "      <td>106.05</td>\n",
       "      <td>106.1100</td>\n",
       "      <td>105.98</td>\n",
       "      <td>106.010</td>\n",
       "      <td>2184239</td>\n",
       "      <td>10342</td>\n",
       "      <td>106.041881</td>\n",
       "      <td>274.00</td>\n",
       "      <td>275.750</td>\n",
       "      <td>273.53</td>\n",
       "      <td>275.48</td>\n",
       "      <td>97669710</td>\n",
       "      <td>337433</td>\n",
       "      <td>274.931757</td>\n",
       "    </tr>\n",
       "    <tr>\n",
       "      <th>2018-06-20 04:00:00+00:00</th>\n",
       "      <td>106.06</td>\n",
       "      <td>106.0600</td>\n",
       "      <td>105.79</td>\n",
       "      <td>105.805</td>\n",
       "      <td>2403650</td>\n",
       "      <td>9220</td>\n",
       "      <td>105.886127</td>\n",
       "      <td>276.26</td>\n",
       "      <td>276.720</td>\n",
       "      <td>275.59</td>\n",
       "      <td>276.01</td>\n",
       "      <td>54051558</td>\n",
       "      <td>212283</td>\n",
       "      <td>276.065730</td>\n",
       "    </tr>\n",
       "    <tr>\n",
       "      <th>2018-06-21 04:00:00+00:00</th>\n",
       "      <td>105.88</td>\n",
       "      <td>105.9599</td>\n",
       "      <td>105.81</td>\n",
       "      <td>105.840</td>\n",
       "      <td>2896731</td>\n",
       "      <td>11286</td>\n",
       "      <td>105.870603</td>\n",
       "      <td>275.96</td>\n",
       "      <td>275.980</td>\n",
       "      <td>273.68</td>\n",
       "      <td>274.24</td>\n",
       "      <td>75659252</td>\n",
       "      <td>289344</td>\n",
       "      <td>274.618337</td>\n",
       "    </tr>\n",
       "    <tr>\n",
       "      <th>2018-06-22 04:00:00+00:00</th>\n",
       "      <td>105.82</td>\n",
       "      <td>105.9400</td>\n",
       "      <td>105.80</td>\n",
       "      <td>105.940</td>\n",
       "      <td>1957177</td>\n",
       "      <td>7830</td>\n",
       "      <td>105.897826</td>\n",
       "      <td>275.66</td>\n",
       "      <td>275.785</td>\n",
       "      <td>274.49</td>\n",
       "      <td>274.76</td>\n",
       "      <td>58532014</td>\n",
       "      <td>231536</td>\n",
       "      <td>275.099940</td>\n",
       "    </tr>\n",
       "  </tbody>\n",
       "</table>\n",
       "</div>"
      ],
      "text/plain": [
       "                              AGG                                      \\\n",
       "                             open      high     low    close   volume   \n",
       "timestamp                                                               \n",
       "2018-06-18 04:00:00+00:00  105.93  105.9300  105.80  105.900  2359452   \n",
       "2018-06-19 04:00:00+00:00  106.05  106.1100  105.98  106.010  2184239   \n",
       "2018-06-20 04:00:00+00:00  106.06  106.0600  105.79  105.805  2403650   \n",
       "2018-06-21 04:00:00+00:00  105.88  105.9599  105.81  105.840  2896731   \n",
       "2018-06-22 04:00:00+00:00  105.82  105.9400  105.80  105.940  1957177   \n",
       "\n",
       "                                                      SPY                   \\\n",
       "                          trade_count        vwap    open     high     low   \n",
       "timestamp                                                                    \n",
       "2018-06-18 04:00:00+00:00       10590  105.864382  275.49  276.700  274.95   \n",
       "2018-06-19 04:00:00+00:00       10342  106.041881  274.00  275.750  273.53   \n",
       "2018-06-20 04:00:00+00:00        9220  105.886127  276.26  276.720  275.59   \n",
       "2018-06-21 04:00:00+00:00       11286  105.870603  275.96  275.980  273.68   \n",
       "2018-06-22 04:00:00+00:00        7830  105.897826  275.66  275.785  274.49   \n",
       "\n",
       "                                                                     \n",
       "                            close    volume trade_count        vwap  \n",
       "timestamp                                                            \n",
       "2018-06-18 04:00:00+00:00  276.59  53163695      221103  276.151288  \n",
       "2018-06-19 04:00:00+00:00  275.48  97669710      337433  274.931757  \n",
       "2018-06-20 04:00:00+00:00  276.01  54051558      212283  276.065730  \n",
       "2018-06-21 04:00:00+00:00  274.24  75659252      289344  274.618337  \n",
       "2018-06-22 04:00:00+00:00  274.76  58532014      231536  275.099940  "
      ]
     },
     "execution_count": 27,
     "metadata": {},
     "output_type": "execute_result"
    }
   ],
   "source": [
    "# Reorganize the DataFrame\n",
    "# Separate ticker data\n",
    "\n",
    "agg = sim_portfolio[sim_portfolio['symbol']=='AGG'].drop('symbol', axis=1)\n",
    "spy = sim_portfolio[sim_portfolio['symbol']=='SPY'].drop('symbol', axis=1)\n",
    "\n",
    "\n",
    "\n",
    "# Concatenate the ticker DataFrames\n",
    "df_stock_data =  pd.concat([agg,spy],axis=1, keys=[\"AGG\",\"SPY\"])\n",
    "\n",
    "# Display sample data\n",
    "df_stock_data.head()"
   ]
  },
  {
   "cell_type": "code",
   "execution_count": 35,
   "metadata": {},
   "outputs": [],
   "source": [
    "# Configuring a Monte Carlo simulation to forecast 30 years cumulative returns\n",
    "MC_thirtyyear = MCSimulation(\n",
    "    portfolio_data = df_stock_data,\n",
    "    weights = [.40,.60],\n",
    "    num_simulation = 500,\n",
    "    num_trading_days = 252*30\n",
    ")"
   ]
  },
  {
   "cell_type": "code",
   "execution_count": 36,
   "metadata": {},
   "outputs": [
    {
     "data": {
      "text/html": [
       "<div>\n",
       "<style scoped>\n",
       "    .dataframe tbody tr th:only-of-type {\n",
       "        vertical-align: middle;\n",
       "    }\n",
       "\n",
       "    .dataframe tbody tr th {\n",
       "        vertical-align: top;\n",
       "    }\n",
       "\n",
       "    .dataframe thead tr th {\n",
       "        text-align: left;\n",
       "    }\n",
       "\n",
       "    .dataframe thead tr:last-of-type th {\n",
       "        text-align: right;\n",
       "    }\n",
       "</style>\n",
       "<table border=\"1\" class=\"dataframe\">\n",
       "  <thead>\n",
       "    <tr>\n",
       "      <th></th>\n",
       "      <th colspan=\"8\" halign=\"left\">AGG</th>\n",
       "      <th colspan=\"8\" halign=\"left\">SPY</th>\n",
       "    </tr>\n",
       "    <tr>\n",
       "      <th></th>\n",
       "      <th>open</th>\n",
       "      <th>high</th>\n",
       "      <th>low</th>\n",
       "      <th>close</th>\n",
       "      <th>volume</th>\n",
       "      <th>trade_count</th>\n",
       "      <th>vwap</th>\n",
       "      <th>daily_return</th>\n",
       "      <th>open</th>\n",
       "      <th>high</th>\n",
       "      <th>low</th>\n",
       "      <th>close</th>\n",
       "      <th>volume</th>\n",
       "      <th>trade_count</th>\n",
       "      <th>vwap</th>\n",
       "      <th>daily_return</th>\n",
       "    </tr>\n",
       "    <tr>\n",
       "      <th>timestamp</th>\n",
       "      <th></th>\n",
       "      <th></th>\n",
       "      <th></th>\n",
       "      <th></th>\n",
       "      <th></th>\n",
       "      <th></th>\n",
       "      <th></th>\n",
       "      <th></th>\n",
       "      <th></th>\n",
       "      <th></th>\n",
       "      <th></th>\n",
       "      <th></th>\n",
       "      <th></th>\n",
       "      <th></th>\n",
       "      <th></th>\n",
       "      <th></th>\n",
       "    </tr>\n",
       "  </thead>\n",
       "  <tbody>\n",
       "    <tr>\n",
       "      <th>2018-06-18 04:00:00+00:00</th>\n",
       "      <td>105.93</td>\n",
       "      <td>105.9300</td>\n",
       "      <td>105.80</td>\n",
       "      <td>105.900</td>\n",
       "      <td>2359452</td>\n",
       "      <td>10590</td>\n",
       "      <td>105.864382</td>\n",
       "      <td>NaN</td>\n",
       "      <td>275.49</td>\n",
       "      <td>276.700</td>\n",
       "      <td>274.95</td>\n",
       "      <td>276.59</td>\n",
       "      <td>53163695</td>\n",
       "      <td>221103</td>\n",
       "      <td>276.151288</td>\n",
       "      <td>NaN</td>\n",
       "    </tr>\n",
       "    <tr>\n",
       "      <th>2018-06-19 04:00:00+00:00</th>\n",
       "      <td>106.05</td>\n",
       "      <td>106.1100</td>\n",
       "      <td>105.98</td>\n",
       "      <td>106.010</td>\n",
       "      <td>2184239</td>\n",
       "      <td>10342</td>\n",
       "      <td>106.041881</td>\n",
       "      <td>0.001039</td>\n",
       "      <td>274.00</td>\n",
       "      <td>275.750</td>\n",
       "      <td>273.53</td>\n",
       "      <td>275.48</td>\n",
       "      <td>97669710</td>\n",
       "      <td>337433</td>\n",
       "      <td>274.931757</td>\n",
       "      <td>-0.004013</td>\n",
       "    </tr>\n",
       "    <tr>\n",
       "      <th>2018-06-20 04:00:00+00:00</th>\n",
       "      <td>106.06</td>\n",
       "      <td>106.0600</td>\n",
       "      <td>105.79</td>\n",
       "      <td>105.805</td>\n",
       "      <td>2403650</td>\n",
       "      <td>9220</td>\n",
       "      <td>105.886127</td>\n",
       "      <td>-0.001934</td>\n",
       "      <td>276.26</td>\n",
       "      <td>276.720</td>\n",
       "      <td>275.59</td>\n",
       "      <td>276.01</td>\n",
       "      <td>54051558</td>\n",
       "      <td>212283</td>\n",
       "      <td>276.065730</td>\n",
       "      <td>0.001924</td>\n",
       "    </tr>\n",
       "    <tr>\n",
       "      <th>2018-06-21 04:00:00+00:00</th>\n",
       "      <td>105.88</td>\n",
       "      <td>105.9599</td>\n",
       "      <td>105.81</td>\n",
       "      <td>105.840</td>\n",
       "      <td>2896731</td>\n",
       "      <td>11286</td>\n",
       "      <td>105.870603</td>\n",
       "      <td>0.000331</td>\n",
       "      <td>275.96</td>\n",
       "      <td>275.980</td>\n",
       "      <td>273.68</td>\n",
       "      <td>274.24</td>\n",
       "      <td>75659252</td>\n",
       "      <td>289344</td>\n",
       "      <td>274.618337</td>\n",
       "      <td>-0.006413</td>\n",
       "    </tr>\n",
       "    <tr>\n",
       "      <th>2018-06-22 04:00:00+00:00</th>\n",
       "      <td>105.82</td>\n",
       "      <td>105.9400</td>\n",
       "      <td>105.80</td>\n",
       "      <td>105.940</td>\n",
       "      <td>1957177</td>\n",
       "      <td>7830</td>\n",
       "      <td>105.897826</td>\n",
       "      <td>0.000945</td>\n",
       "      <td>275.66</td>\n",
       "      <td>275.785</td>\n",
       "      <td>274.49</td>\n",
       "      <td>274.76</td>\n",
       "      <td>58532014</td>\n",
       "      <td>231536</td>\n",
       "      <td>275.099940</td>\n",
       "      <td>0.001896</td>\n",
       "    </tr>\n",
       "  </tbody>\n",
       "</table>\n",
       "</div>"
      ],
      "text/plain": [
       "                              AGG                                      \\\n",
       "                             open      high     low    close   volume   \n",
       "timestamp                                                               \n",
       "2018-06-18 04:00:00+00:00  105.93  105.9300  105.80  105.900  2359452   \n",
       "2018-06-19 04:00:00+00:00  106.05  106.1100  105.98  106.010  2184239   \n",
       "2018-06-20 04:00:00+00:00  106.06  106.0600  105.79  105.805  2403650   \n",
       "2018-06-21 04:00:00+00:00  105.88  105.9599  105.81  105.840  2896731   \n",
       "2018-06-22 04:00:00+00:00  105.82  105.9400  105.80  105.940  1957177   \n",
       "\n",
       "                                                                   SPY  \\\n",
       "                          trade_count        vwap daily_return    open   \n",
       "timestamp                                                                \n",
       "2018-06-18 04:00:00+00:00       10590  105.864382          NaN  275.49   \n",
       "2018-06-19 04:00:00+00:00       10342  106.041881     0.001039  274.00   \n",
       "2018-06-20 04:00:00+00:00        9220  105.886127    -0.001934  276.26   \n",
       "2018-06-21 04:00:00+00:00       11286  105.870603     0.000331  275.96   \n",
       "2018-06-22 04:00:00+00:00        7830  105.897826     0.000945  275.66   \n",
       "\n",
       "                                                                          \\\n",
       "                              high     low   close    volume trade_count   \n",
       "timestamp                                                                  \n",
       "2018-06-18 04:00:00+00:00  276.700  274.95  276.59  53163695      221103   \n",
       "2018-06-19 04:00:00+00:00  275.750  273.53  275.48  97669710      337433   \n",
       "2018-06-20 04:00:00+00:00  276.720  275.59  276.01  54051558      212283   \n",
       "2018-06-21 04:00:00+00:00  275.980  273.68  274.24  75659252      289344   \n",
       "2018-06-22 04:00:00+00:00  275.785  274.49  274.76  58532014      231536   \n",
       "\n",
       "                                                    \n",
       "                                 vwap daily_return  \n",
       "timestamp                                           \n",
       "2018-06-18 04:00:00+00:00  276.151288          NaN  \n",
       "2018-06-19 04:00:00+00:00  274.931757    -0.004013  \n",
       "2018-06-20 04:00:00+00:00  276.065730     0.001924  \n",
       "2018-06-21 04:00:00+00:00  274.618337    -0.006413  \n",
       "2018-06-22 04:00:00+00:00  275.099940     0.001896  "
      ]
     },
     "execution_count": 36,
     "metadata": {},
     "output_type": "execute_result"
    }
   ],
   "source": [
    "# Printing the simulation input data\n",
    "MC_thirtyyear.portfolio_data.head() "
   ]
  },
  {
   "cell_type": "code",
   "execution_count": 37,
   "metadata": {},
   "outputs": [
    {
     "name": "stdout",
     "output_type": "stream",
     "text": [
      "Running Monte Carlo simulation number 0.\n",
      "Running Monte Carlo simulation number 10.\n",
      "Running Monte Carlo simulation number 20.\n",
      "Running Monte Carlo simulation number 30.\n",
      "Running Monte Carlo simulation number 40.\n",
      "Running Monte Carlo simulation number 50.\n",
      "Running Monte Carlo simulation number 60.\n",
      "Running Monte Carlo simulation number 70.\n",
      "Running Monte Carlo simulation number 80.\n",
      "Running Monte Carlo simulation number 90.\n",
      "Running Monte Carlo simulation number 100.\n",
      "Running Monte Carlo simulation number 110.\n",
      "Running Monte Carlo simulation number 120.\n",
      "Running Monte Carlo simulation number 130.\n",
      "Running Monte Carlo simulation number 140.\n",
      "Running Monte Carlo simulation number 150.\n",
      "Running Monte Carlo simulation number 160.\n",
      "Running Monte Carlo simulation number 170.\n",
      "Running Monte Carlo simulation number 180.\n",
      "Running Monte Carlo simulation number 190.\n",
      "Running Monte Carlo simulation number 200.\n",
      "Running Monte Carlo simulation number 210.\n",
      "Running Monte Carlo simulation number 220.\n",
      "Running Monte Carlo simulation number 230.\n",
      "Running Monte Carlo simulation number 240.\n",
      "Running Monte Carlo simulation number 250.\n",
      "Running Monte Carlo simulation number 260.\n",
      "Running Monte Carlo simulation number 270.\n",
      "Running Monte Carlo simulation number 280.\n",
      "Running Monte Carlo simulation number 290.\n",
      "Running Monte Carlo simulation number 300.\n",
      "Running Monte Carlo simulation number 310.\n",
      "Running Monte Carlo simulation number 320.\n",
      "Running Monte Carlo simulation number 330.\n",
      "Running Monte Carlo simulation number 340.\n",
      "Running Monte Carlo simulation number 350.\n",
      "Running Monte Carlo simulation number 360.\n",
      "Running Monte Carlo simulation number 370.\n",
      "Running Monte Carlo simulation number 380.\n",
      "Running Monte Carlo simulation number 390.\n",
      "Running Monte Carlo simulation number 400.\n",
      "Running Monte Carlo simulation number 410.\n",
      "Running Monte Carlo simulation number 420.\n",
      "Running Monte Carlo simulation number 430.\n",
      "Running Monte Carlo simulation number 440.\n",
      "Running Monte Carlo simulation number 450.\n",
      "Running Monte Carlo simulation number 460.\n",
      "Running Monte Carlo simulation number 470.\n",
      "Running Monte Carlo simulation number 480.\n",
      "Running Monte Carlo simulation number 490.\n"
     ]
    },
    {
     "data": {
      "text/html": [
       "<div>\n",
       "<style scoped>\n",
       "    .dataframe tbody tr th:only-of-type {\n",
       "        vertical-align: middle;\n",
       "    }\n",
       "\n",
       "    .dataframe tbody tr th {\n",
       "        vertical-align: top;\n",
       "    }\n",
       "\n",
       "    .dataframe thead th {\n",
       "        text-align: right;\n",
       "    }\n",
       "</style>\n",
       "<table border=\"1\" class=\"dataframe\">\n",
       "  <thead>\n",
       "    <tr style=\"text-align: right;\">\n",
       "      <th></th>\n",
       "      <th>0</th>\n",
       "      <th>1</th>\n",
       "      <th>2</th>\n",
       "      <th>3</th>\n",
       "      <th>4</th>\n",
       "      <th>5</th>\n",
       "      <th>6</th>\n",
       "      <th>7</th>\n",
       "      <th>8</th>\n",
       "      <th>9</th>\n",
       "      <th>...</th>\n",
       "      <th>490</th>\n",
       "      <th>491</th>\n",
       "      <th>492</th>\n",
       "      <th>493</th>\n",
       "      <th>494</th>\n",
       "      <th>495</th>\n",
       "      <th>496</th>\n",
       "      <th>497</th>\n",
       "      <th>498</th>\n",
       "      <th>499</th>\n",
       "    </tr>\n",
       "  </thead>\n",
       "  <tbody>\n",
       "    <tr>\n",
       "      <th>0</th>\n",
       "      <td>1.000000</td>\n",
       "      <td>1.000000</td>\n",
       "      <td>1.000000</td>\n",
       "      <td>1.000000</td>\n",
       "      <td>1.000000</td>\n",
       "      <td>1.000000</td>\n",
       "      <td>1.000000</td>\n",
       "      <td>1.000000</td>\n",
       "      <td>1.000000</td>\n",
       "      <td>1.000000</td>\n",
       "      <td>...</td>\n",
       "      <td>1.000000</td>\n",
       "      <td>1.000000</td>\n",
       "      <td>1.000000</td>\n",
       "      <td>1.000000</td>\n",
       "      <td>1.000000</td>\n",
       "      <td>1.000000</td>\n",
       "      <td>1.000000</td>\n",
       "      <td>1.000000</td>\n",
       "      <td>1.000000</td>\n",
       "      <td>1.000000</td>\n",
       "    </tr>\n",
       "    <tr>\n",
       "      <th>1</th>\n",
       "      <td>0.997096</td>\n",
       "      <td>1.002473</td>\n",
       "      <td>1.016313</td>\n",
       "      <td>1.003160</td>\n",
       "      <td>1.000757</td>\n",
       "      <td>1.003768</td>\n",
       "      <td>0.986279</td>\n",
       "      <td>0.981637</td>\n",
       "      <td>1.002306</td>\n",
       "      <td>0.998900</td>\n",
       "      <td>...</td>\n",
       "      <td>0.999030</td>\n",
       "      <td>1.002305</td>\n",
       "      <td>1.001340</td>\n",
       "      <td>0.990841</td>\n",
       "      <td>0.988397</td>\n",
       "      <td>0.996648</td>\n",
       "      <td>1.010405</td>\n",
       "      <td>0.993189</td>\n",
       "      <td>1.002123</td>\n",
       "      <td>1.011720</td>\n",
       "    </tr>\n",
       "    <tr>\n",
       "      <th>2</th>\n",
       "      <td>1.009773</td>\n",
       "      <td>0.987750</td>\n",
       "      <td>1.008399</td>\n",
       "      <td>1.003057</td>\n",
       "      <td>1.004326</td>\n",
       "      <td>1.006644</td>\n",
       "      <td>0.983454</td>\n",
       "      <td>0.973627</td>\n",
       "      <td>0.995538</td>\n",
       "      <td>1.002301</td>\n",
       "      <td>...</td>\n",
       "      <td>0.992548</td>\n",
       "      <td>1.000934</td>\n",
       "      <td>1.003076</td>\n",
       "      <td>0.990291</td>\n",
       "      <td>0.961182</td>\n",
       "      <td>1.001700</td>\n",
       "      <td>1.012745</td>\n",
       "      <td>0.987940</td>\n",
       "      <td>1.001703</td>\n",
       "      <td>1.011524</td>\n",
       "    </tr>\n",
       "    <tr>\n",
       "      <th>3</th>\n",
       "      <td>1.002919</td>\n",
       "      <td>0.992366</td>\n",
       "      <td>1.005167</td>\n",
       "      <td>1.002895</td>\n",
       "      <td>1.023912</td>\n",
       "      <td>1.003866</td>\n",
       "      <td>0.987662</td>\n",
       "      <td>0.977778</td>\n",
       "      <td>0.991299</td>\n",
       "      <td>1.009315</td>\n",
       "      <td>...</td>\n",
       "      <td>0.998480</td>\n",
       "      <td>1.015740</td>\n",
       "      <td>1.002227</td>\n",
       "      <td>0.992785</td>\n",
       "      <td>0.964948</td>\n",
       "      <td>1.001200</td>\n",
       "      <td>0.999387</td>\n",
       "      <td>0.987633</td>\n",
       "      <td>1.012710</td>\n",
       "      <td>1.010813</td>\n",
       "    </tr>\n",
       "    <tr>\n",
       "      <th>4</th>\n",
       "      <td>1.000610</td>\n",
       "      <td>1.012223</td>\n",
       "      <td>1.006864</td>\n",
       "      <td>0.996812</td>\n",
       "      <td>1.027790</td>\n",
       "      <td>1.010994</td>\n",
       "      <td>0.990754</td>\n",
       "      <td>0.991292</td>\n",
       "      <td>0.987638</td>\n",
       "      <td>1.017294</td>\n",
       "      <td>...</td>\n",
       "      <td>0.990828</td>\n",
       "      <td>1.016872</td>\n",
       "      <td>0.990615</td>\n",
       "      <td>0.991162</td>\n",
       "      <td>0.969128</td>\n",
       "      <td>0.987034</td>\n",
       "      <td>1.008422</td>\n",
       "      <td>0.995076</td>\n",
       "      <td>0.997477</td>\n",
       "      <td>1.009121</td>\n",
       "    </tr>\n",
       "    <tr>\n",
       "      <th>...</th>\n",
       "      <td>...</td>\n",
       "      <td>...</td>\n",
       "      <td>...</td>\n",
       "      <td>...</td>\n",
       "      <td>...</td>\n",
       "      <td>...</td>\n",
       "      <td>...</td>\n",
       "      <td>...</td>\n",
       "      <td>...</td>\n",
       "      <td>...</td>\n",
       "      <td>...</td>\n",
       "      <td>...</td>\n",
       "      <td>...</td>\n",
       "      <td>...</td>\n",
       "      <td>...</td>\n",
       "      <td>...</td>\n",
       "      <td>...</td>\n",
       "      <td>...</td>\n",
       "      <td>...</td>\n",
       "      <td>...</td>\n",
       "      <td>...</td>\n",
       "    </tr>\n",
       "    <tr>\n",
       "      <th>7556</th>\n",
       "      <td>5.468108</td>\n",
       "      <td>3.834673</td>\n",
       "      <td>4.118866</td>\n",
       "      <td>3.645135</td>\n",
       "      <td>4.777909</td>\n",
       "      <td>8.931401</td>\n",
       "      <td>2.951562</td>\n",
       "      <td>27.401438</td>\n",
       "      <td>20.016530</td>\n",
       "      <td>2.790093</td>\n",
       "      <td>...</td>\n",
       "      <td>15.270095</td>\n",
       "      <td>13.991776</td>\n",
       "      <td>7.284637</td>\n",
       "      <td>4.008957</td>\n",
       "      <td>5.508509</td>\n",
       "      <td>4.401290</td>\n",
       "      <td>4.248330</td>\n",
       "      <td>12.203286</td>\n",
       "      <td>16.825835</td>\n",
       "      <td>6.018901</td>\n",
       "    </tr>\n",
       "    <tr>\n",
       "      <th>7557</th>\n",
       "      <td>5.517383</td>\n",
       "      <td>3.859616</td>\n",
       "      <td>4.154110</td>\n",
       "      <td>3.643854</td>\n",
       "      <td>4.810202</td>\n",
       "      <td>8.931393</td>\n",
       "      <td>2.956273</td>\n",
       "      <td>27.363973</td>\n",
       "      <td>20.152595</td>\n",
       "      <td>2.809406</td>\n",
       "      <td>...</td>\n",
       "      <td>15.214220</td>\n",
       "      <td>14.123318</td>\n",
       "      <td>7.193810</td>\n",
       "      <td>4.037877</td>\n",
       "      <td>5.493100</td>\n",
       "      <td>4.436884</td>\n",
       "      <td>4.209103</td>\n",
       "      <td>12.051983</td>\n",
       "      <td>17.224626</td>\n",
       "      <td>6.026622</td>\n",
       "    </tr>\n",
       "    <tr>\n",
       "      <th>7558</th>\n",
       "      <td>5.507686</td>\n",
       "      <td>3.853656</td>\n",
       "      <td>4.184895</td>\n",
       "      <td>3.647049</td>\n",
       "      <td>4.816108</td>\n",
       "      <td>9.014306</td>\n",
       "      <td>2.961441</td>\n",
       "      <td>27.379189</td>\n",
       "      <td>20.012336</td>\n",
       "      <td>2.795189</td>\n",
       "      <td>...</td>\n",
       "      <td>15.352274</td>\n",
       "      <td>14.035334</td>\n",
       "      <td>7.277473</td>\n",
       "      <td>4.008079</td>\n",
       "      <td>5.508937</td>\n",
       "      <td>4.433578</td>\n",
       "      <td>4.231722</td>\n",
       "      <td>12.264288</td>\n",
       "      <td>17.210026</td>\n",
       "      <td>6.049385</td>\n",
       "    </tr>\n",
       "    <tr>\n",
       "      <th>7559</th>\n",
       "      <td>5.465512</td>\n",
       "      <td>3.839467</td>\n",
       "      <td>4.209288</td>\n",
       "      <td>3.675434</td>\n",
       "      <td>4.810951</td>\n",
       "      <td>8.936119</td>\n",
       "      <td>2.958537</td>\n",
       "      <td>27.207317</td>\n",
       "      <td>19.782092</td>\n",
       "      <td>2.816889</td>\n",
       "      <td>...</td>\n",
       "      <td>15.374951</td>\n",
       "      <td>14.094389</td>\n",
       "      <td>7.261696</td>\n",
       "      <td>3.973967</td>\n",
       "      <td>5.497193</td>\n",
       "      <td>4.392672</td>\n",
       "      <td>4.199260</td>\n",
       "      <td>12.247716</td>\n",
       "      <td>17.248745</td>\n",
       "      <td>6.026845</td>\n",
       "    </tr>\n",
       "    <tr>\n",
       "      <th>7560</th>\n",
       "      <td>5.432997</td>\n",
       "      <td>3.890430</td>\n",
       "      <td>4.236505</td>\n",
       "      <td>3.682129</td>\n",
       "      <td>4.743416</td>\n",
       "      <td>8.972379</td>\n",
       "      <td>2.944162</td>\n",
       "      <td>27.143152</td>\n",
       "      <td>19.875731</td>\n",
       "      <td>2.822005</td>\n",
       "      <td>...</td>\n",
       "      <td>15.415620</td>\n",
       "      <td>14.164260</td>\n",
       "      <td>7.265064</td>\n",
       "      <td>3.983298</td>\n",
       "      <td>5.411142</td>\n",
       "      <td>4.399766</td>\n",
       "      <td>4.211529</td>\n",
       "      <td>12.406728</td>\n",
       "      <td>17.213716</td>\n",
       "      <td>5.964328</td>\n",
       "    </tr>\n",
       "  </tbody>\n",
       "</table>\n",
       "<p>7561 rows × 500 columns</p>\n",
       "</div>"
      ],
      "text/plain": [
       "           0         1         2         3         4         5         6    \\\n",
       "0     1.000000  1.000000  1.000000  1.000000  1.000000  1.000000  1.000000   \n",
       "1     0.997096  1.002473  1.016313  1.003160  1.000757  1.003768  0.986279   \n",
       "2     1.009773  0.987750  1.008399  1.003057  1.004326  1.006644  0.983454   \n",
       "3     1.002919  0.992366  1.005167  1.002895  1.023912  1.003866  0.987662   \n",
       "4     1.000610  1.012223  1.006864  0.996812  1.027790  1.010994  0.990754   \n",
       "...        ...       ...       ...       ...       ...       ...       ...   \n",
       "7556  5.468108  3.834673  4.118866  3.645135  4.777909  8.931401  2.951562   \n",
       "7557  5.517383  3.859616  4.154110  3.643854  4.810202  8.931393  2.956273   \n",
       "7558  5.507686  3.853656  4.184895  3.647049  4.816108  9.014306  2.961441   \n",
       "7559  5.465512  3.839467  4.209288  3.675434  4.810951  8.936119  2.958537   \n",
       "7560  5.432997  3.890430  4.236505  3.682129  4.743416  8.972379  2.944162   \n",
       "\n",
       "            7          8         9    ...        490        491       492  \\\n",
       "0      1.000000   1.000000  1.000000  ...   1.000000   1.000000  1.000000   \n",
       "1      0.981637   1.002306  0.998900  ...   0.999030   1.002305  1.001340   \n",
       "2      0.973627   0.995538  1.002301  ...   0.992548   1.000934  1.003076   \n",
       "3      0.977778   0.991299  1.009315  ...   0.998480   1.015740  1.002227   \n",
       "4      0.991292   0.987638  1.017294  ...   0.990828   1.016872  0.990615   \n",
       "...         ...        ...       ...  ...        ...        ...       ...   \n",
       "7556  27.401438  20.016530  2.790093  ...  15.270095  13.991776  7.284637   \n",
       "7557  27.363973  20.152595  2.809406  ...  15.214220  14.123318  7.193810   \n",
       "7558  27.379189  20.012336  2.795189  ...  15.352274  14.035334  7.277473   \n",
       "7559  27.207317  19.782092  2.816889  ...  15.374951  14.094389  7.261696   \n",
       "7560  27.143152  19.875731  2.822005  ...  15.415620  14.164260  7.265064   \n",
       "\n",
       "           493       494       495       496        497        498       499  \n",
       "0     1.000000  1.000000  1.000000  1.000000   1.000000   1.000000  1.000000  \n",
       "1     0.990841  0.988397  0.996648  1.010405   0.993189   1.002123  1.011720  \n",
       "2     0.990291  0.961182  1.001700  1.012745   0.987940   1.001703  1.011524  \n",
       "3     0.992785  0.964948  1.001200  0.999387   0.987633   1.012710  1.010813  \n",
       "4     0.991162  0.969128  0.987034  1.008422   0.995076   0.997477  1.009121  \n",
       "...        ...       ...       ...       ...        ...        ...       ...  \n",
       "7556  4.008957  5.508509  4.401290  4.248330  12.203286  16.825835  6.018901  \n",
       "7557  4.037877  5.493100  4.436884  4.209103  12.051983  17.224626  6.026622  \n",
       "7558  4.008079  5.508937  4.433578  4.231722  12.264288  17.210026  6.049385  \n",
       "7559  3.973967  5.497193  4.392672  4.199260  12.247716  17.248745  6.026845  \n",
       "7560  3.983298  5.411142  4.399766  4.211529  12.406728  17.213716  5.964328  \n",
       "\n",
       "[7561 rows x 500 columns]"
      ]
     },
     "execution_count": 37,
     "metadata": {},
     "output_type": "execute_result"
    }
   ],
   "source": [
    "# Running a Monte Carlo simulation to forecast 30 years cumulative returns\n",
    "MC_thirtyyear.calc_cumulative_return()"
   ]
  },
  {
   "cell_type": "code",
   "execution_count": 42,
   "metadata": {},
   "outputs": [
    {
     "data": {
      "text/plain": [
       "<Axes: title={'center': '500 Simulations of Cumulative Portfolio Return Trajectories Over the Next 7560 Trading Days.'}>"
      ]
     },
     "execution_count": 42,
     "metadata": {},
     "output_type": "execute_result"
    },
    {
     "data": {
      "image/png": "[encoded data removed]",
      "text/plain": [
       "<Figure size 640x480 with 1 Axes>"
      ]
     },
     "metadata": {},
     "output_type": "display_data"
    }
   ],
   "source": [
    "# Plot simulation outcomes\n",
    "MC_thirtyyear.plot_simulation()"
   ]
  },
  {
   "cell_type": "code",
   "execution_count": 32,
   "metadata": {},
   "outputs": [],
   "source": [
    "# Plot probability distribution and confidence intervals\n",
    "# YOUR CODE HERE!"
   ]
  },
  {
   "attachments": {},
   "cell_type": "markdown",
   "metadata": {},
   "source": [
    "### Retirement Analysis"
   ]
  },
  {
   "cell_type": "code",
   "execution_count": 33,
   "metadata": {},
   "outputs": [],
   "source": [
    "# Fetch summary statistics from the Monte Carlo simulation results\n",
    "# YOUR CODE HERE!\n",
    "\n",
    "# Print summary statistics\n",
    "# YOUR CODE HERE!"
   ]
  },
  {
   "attachments": {},
   "cell_type": "markdown",
   "metadata": {},
   "source": [
    "### Calculate the expected portfolio return at the `95%` lower and upper confidence intervals based on a `$20,000` initial investment."
   ]
  },
  {
   "cell_type": "code",
   "execution_count": 34,
   "metadata": {},
   "outputs": [
    {
     "ename": "NameError",
     "evalue": "name 'ci_lower' is not defined",
     "output_type": "error",
     "traceback": [
      "\u001b[0;31m---------------------------------------------------------------------------\u001b[0m",
      "\u001b[0;31mNameError\u001b[0m                                 Traceback (most recent call last)",
      "Cell \u001b[0;32mIn[34], line 10\u001b[0m\n\u001b[1;32m      2\u001b[0m initial_investment \u001b[39m=\u001b[39m \u001b[39m20000\u001b[39m\n\u001b[1;32m      4\u001b[0m \u001b[39m# Use the lower and upper `95%` confidence intervals to calculate the range of the possible outcomes of our $20,000\u001b[39;00m\n\u001b[1;32m      5\u001b[0m \u001b[39m# YOUR CODE HERE!\u001b[39;00m\n\u001b[1;32m      6\u001b[0m \n\u001b[1;32m      7\u001b[0m \u001b[39m# Print results\u001b[39;00m\n\u001b[1;32m      8\u001b[0m \u001b[39mprint\u001b[39m(\u001b[39mf\u001b[39m\u001b[39m\"\u001b[39m\u001b[39mThere is a 95% chance that an initial investment of $\u001b[39m\u001b[39m{\u001b[39;00minitial_investment\u001b[39m}\u001b[39;00m\u001b[39m in the portfolio\u001b[39m\u001b[39m\"\u001b[39m\n\u001b[1;32m      9\u001b[0m       \u001b[39mf\u001b[39m\u001b[39m\"\u001b[39m\u001b[39m over the next 30 years will end within in the range of\u001b[39m\u001b[39m\"\u001b[39m\n\u001b[0;32m---> 10\u001b[0m       \u001b[39mf\u001b[39m\u001b[39m\"\u001b[39m\u001b[39m $\u001b[39m\u001b[39m{\u001b[39;00mci_lower\u001b[39m}\u001b[39;00m\u001b[39m and $\u001b[39m\u001b[39m{\u001b[39;00mci_upper\u001b[39m}\u001b[39;00m\u001b[39m\"\u001b[39m)\n",
      "\u001b[0;31mNameError\u001b[0m: name 'ci_lower' is not defined"
     ]
    }
   ],
   "source": [
    "# Set initial investment\n",
    "initial_investment = 20000\n",
    "\n",
    "# Use the lower and upper `95%` confidence intervals to calculate the range of the possible outcomes of our $20,000\n",
    "# YOUR CODE HERE!\n",
    "\n",
    "# Print results\n",
    "print(f\"There is a 95% chance that an initial investment of ${initial_investment} in the portfolio\"\n",
    "      f\" over the next 30 years will end within in the range of\"\n",
    "      f\" ${ci_lower} and ${ci_upper}\")"
   ]
  },
  {
   "attachments": {},
   "cell_type": "markdown",
   "metadata": {},
   "source": [
    "### Calculate the expected portfolio return at the `95%` lower and upper confidence intervals based on a `50%` increase in the initial investment."
   ]
  },
  {
   "cell_type": "code",
   "execution_count": null,
   "metadata": {},
   "outputs": [],
   "source": [
    "# Set initial investment\n",
    "initial_investment = 20000 * 1.5\n",
    "\n",
    "# Use the lower and upper `95%` confidence intervals to calculate the range of the possible outcomes of our $30,000\n",
    "# YOUR CODE HERE!\n",
    "\n",
    "# Print results\n",
    "print(f\"There is a 95% chance that an initial investment of ${initial_investment} in the portfolio\"\n",
    "      f\" over the next 30 years will end within in the range of\"\n",
    "      f\" ${ci_lower} and ${ci_upper}\")"
   ]
  },
  {
   "attachments": {},
   "cell_type": "markdown",
   "metadata": {},
   "source": [
    "## Optional Challenge - Early Retirement\n",
    "\n",
    "\n",
    "### Five Years Retirement Option"
   ]
  },
  {
   "cell_type": "code",
   "execution_count": null,
   "metadata": {},
   "outputs": [],
   "source": [
    "# Configuring a Monte Carlo simulation to forecast 5 years cumulative returns\n",
    "# YOUR CODE HERE!"
   ]
  },
  {
   "cell_type": "code",
   "execution_count": null,
   "metadata": {},
   "outputs": [],
   "source": [
    "# Running a Monte Carlo simulation to forecast 5 years cumulative returns\n",
    "# YOUR CODE HERE!"
   ]
  },
  {
   "cell_type": "code",
   "execution_count": null,
   "metadata": {},
   "outputs": [],
   "source": [
    "# Plot simulation outcomes\n",
    "# YOUR CODE HERE!"
   ]
  },
  {
   "cell_type": "code",
   "execution_count": null,
   "metadata": {},
   "outputs": [],
   "source": [
    "# Plot probability distribution and confidence intervals\n",
    "# YOUR CODE HERE!"
   ]
  },
  {
   "cell_type": "code",
   "execution_count": null,
   "metadata": {},
   "outputs": [],
   "source": [
    "# Fetch summary statistics from the Monte Carlo simulation results\n",
    "# YOUR CODE HERE!\n",
    "\n",
    "# Print summary statistics\n",
    "# YOUR CODE HERE!"
   ]
  },
  {
   "cell_type": "code",
   "execution_count": null,
   "metadata": {},
   "outputs": [],
   "source": [
    "# Set initial investment\n",
    "# YOUR CODE HERE!\n",
    "\n",
    "# Use the lower and upper `95%` confidence intervals to calculate the range of the possible outcomes of our $60,000\n",
    "# YOUR CODE HERE!\n",
    "\n",
    "# Print results\n",
    "print(f\"There is a 95% chance that an initial investment of ${initial_investment} in the portfolio\"\n",
    "      f\" over the next 5 years will end within in the range of\"\n",
    "      f\" ${ci_lower_five} and ${ci_upper_five}\")"
   ]
  },
  {
   "attachments": {},
   "cell_type": "markdown",
   "metadata": {},
   "source": [
    "### Ten Years Retirement Option"
   ]
  },
  {
   "cell_type": "code",
   "execution_count": null,
   "metadata": {},
   "outputs": [],
   "source": [
    "# Configuring a Monte Carlo simulation to forecast 10 years cumulative returns\n",
    "# YOUR CODE HERE!"
   ]
  },
  {
   "cell_type": "code",
   "execution_count": null,
   "metadata": {},
   "outputs": [],
   "source": [
    "# Running a Monte Carlo simulation to forecast 10 years cumulative returns\n",
    "# YOUR CODE HERE!"
   ]
  },
  {
   "cell_type": "code",
   "execution_count": null,
   "metadata": {},
   "outputs": [],
   "source": [
    "# Plot simulation outcomes\n",
    "# YOUR CODE HERE!"
   ]
  },
  {
   "cell_type": "code",
   "execution_count": null,
   "metadata": {},
   "outputs": [],
   "source": [
    "# Plot probability distribution and confidence intervals\n",
    "# YOUR CODE HERE!"
   ]
  },
  {
   "cell_type": "code",
   "execution_count": null,
   "metadata": {},
   "outputs": [],
   "source": [
    "# Fetch summary statistics from the Monte Carlo simulation results\n",
    "# YOUR CODE HERE!\n",
    "\n",
    "# Print summary statistics\n",
    "# YOUR CODE HERE!"
   ]
  },
  {
   "cell_type": "code",
   "execution_count": null,
   "metadata": {},
   "outputs": [],
   "source": [
    "# Set initial investment\n",
    "# YOUR CODE HERE!\n",
    "\n",
    "# Use the lower and upper `95%` confidence intervals to calculate the range of the possible outcomes of our $60,000\n",
    "# YOUR CODE HERE!\n",
    "\n",
    "# Print results\n",
    "print(f\"There is a 95% chance that an initial investment of ${initial_investment} in the portfolio\"\n",
    "      f\" over the next 10 years will end within in the range of\"\n",
    "      f\" ${ci_lower_ten} and ${ci_upper_ten}\")"
   ]
  },
  {
   "cell_type": "code",
   "execution_count": null,
   "metadata": {},
   "outputs": [],
   "source": []
  }
 ],
 "metadata": {
  "kernelspec": {
   "display_name": "Python 3 (ipykernel)",
   "language": "python",
   "name": "python3"
  },
  "language_info": {
   "codemirror_mode": {
    "name": "ipython",
    "version": 3
   },
   "file_extension": ".py",
   "mimetype": "text/x-python",
   "name": "python",
   "nbconvert_exporter": "python",
   "pygments_lexer": "ipython3",
   "version": "3.10.9"
  },
  "nteract": {
   "version": "0.28.0"
  }
 },
 "nbformat": 4,
 "nbformat_minor": 4
}
